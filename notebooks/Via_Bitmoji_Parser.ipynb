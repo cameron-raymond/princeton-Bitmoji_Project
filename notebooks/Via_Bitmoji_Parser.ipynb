{
 "cells": [
  {
   "cell_type": "markdown",
   "metadata": {},
   "source": [
    "# Bitmoji Parser\n",
    "\n",
    "1. Read in exported coordinates from VIA\n",
    "2. Go through and parse out rectangles (need to update to include other shapes)\n",
    "3. Save them to `data/output`"
   ]
  },
  {
   "cell_type": "code",
   "execution_count": 1,
   "metadata": {},
   "outputs": [],
   "source": [
    "from matplotlib import pyplot as plt\n",
    "from glob import glob\n",
    "import random as rng\n",
    "import pandas as pd\n",
    "import numpy as np\n",
    "import json\n",
    "import cv2\n",
    "\n",
    "# Update these as necessary\n",
    "VIA_PATH = '../data/via_coordinates.csv'\n",
    "IMG_FOLDER = '../data/input/'\n",
    "OUTPUT_FOLDER = '../data/output/'\n",
    "\n",
    "via_output = pd.read_csv(VIA_PATH)\n",
    "# Get the type out of the dictionary (should only be one?)\n",
    "via_output['type'] = pd.json_normalize(via_output['region_attributes'].map(json.loads))"
   ]
  },
  {
   "cell_type": "code",
   "execution_count": 2,
   "metadata": {},
   "outputs": [
    {
     "name": "stdout",
     "output_type": "stream",
     "text": [
      "Parser can only handle rectangles. Got polygon.\n"
     ]
    },
    {
     "data": {
      "text/plain": [
       "0      True\n",
       "1      True\n",
       "2      True\n",
       "3      True\n",
       "4      True\n",
       "       ... \n",
       "105    True\n",
       "106    True\n",
       "107    True\n",
       "108    True\n",
       "109    True\n",
       "Length: 110, dtype: bool"
      ]
     },
     "execution_count": 2,
     "metadata": {},
     "output_type": "execute_result"
    }
   ],
   "source": [
    "def parse_rectangle(img,coordinates):\n",
    "    \"\"\"\n",
    "        Takes in a big image, returns that image cropped to the rectangle given by the \n",
    "        coordinates x,y,w,h\n",
    "    \"\"\"\n",
    "    x,y,w,h = coordinates['x'],coordinates['y'],coordinates['width'],coordinates['height']\n",
    "    section = img[y:y+h, x:x+w]\n",
    "    return section\n",
    "    \n",
    "def parse_triangle(img,coordinates):\n",
    "    \"\"\"\n",
    "        TODO\n",
    "    \"\"\"\n",
    "    pass\n",
    "\n",
    "def parse_oval(img,coordinates):\n",
    "    \"\"\"\n",
    "        TODO\n",
    "    \"\"\"\n",
    "    pass\n",
    "\n",
    "def parse_polygon(img,coordinates):\n",
    "    \"\"\"\n",
    "        TODO\n",
    "    \"\"\"\n",
    "    pass\n",
    "    \n",
    "# Once the other functions are completed add them here\n",
    "PARSE_MAP = { \n",
    "    'rect': parse_rectangle,\n",
    "    'polygon': False,\n",
    "    'triangle': False,\n",
    "    'oval': False\n",
    "}\n",
    "    \n",
    "def parse_image(row):\n",
    "    # Parse region_shape_attributes column as a dictionary\n",
    "    reg = json.loads(row['region_shape_attributes'])\n",
    "    # Image meta data\n",
    "    file_name,region_id,region_type = row['filename'],row['region_id'],row['type']\n",
    "    # Right now the only shape I can parse are rectangles\n",
    "    shape = reg.get('name')\n",
    "    if not PARSE_MAP.get(shape):\n",
    "        print(f\"Parser can only handle rectangles. Got {reg.get('name')}.\")\n",
    "        return False\n",
    "    parse_func = PARSE_MAP[shape]\n",
    "    img = cv2.imread(f\"{IMG_FOLDER}{file_name}\", 1)\n",
    "    section = parse_func(img,reg)\n",
    "    # Get rid of the JPG at the end\n",
    "    out_fname = file_name.split(\".\")[0]\n",
    "    # Replace any whitespace or slashes with underscores\n",
    "    region_type = region_type.replace(\" \",\"_\").replace(\"/\",\"_\")\n",
    "    # Put the filename back together\n",
    "    out_fname = f\"{out_fname}_{region_type}-{region_id}.jpg\"\n",
    "    output_path = f\"{OUTPUT_FOLDER}{out_fname}\"\n",
    "    # Write the image to the output folder\n",
    "    cv2.imwrite(output_path, section)\n",
    "    return True\n",
    "    \n",
    "via_output.apply(parse_image,axis=1)"
   ]
  },
  {
   "cell_type": "code",
   "execution_count": null,
   "metadata": {},
   "outputs": [],
   "source": []
  }
 ],
 "metadata": {
  "kernelspec": {
   "display_name": "Python (Bitmoji)",
   "language": "python",
   "name": "bitmoji"
  },
  "language_info": {
   "codemirror_mode": {
    "name": "ipython",
    "version": 3
   },
   "file_extension": ".py",
   "mimetype": "text/x-python",
   "name": "python",
   "nbconvert_exporter": "python",
   "pygments_lexer": "ipython3",
   "version": "3.9.4"
  }
 },
 "nbformat": 4,
 "nbformat_minor": 4
}
